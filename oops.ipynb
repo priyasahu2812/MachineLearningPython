{
 "cells": [
  {
   "cell_type": "code",
   "execution_count": 2,
   "metadata": {},
   "outputs": [
    {
     "name": "stdout",
     "output_type": "stream",
     "text": [
      "3\n"
     ]
    }
   ],
   "source": [
    "add = lambda x, y: x+y\n",
    "print(add(1, 2))"
   ]
  },
  {
   "cell_type": "code",
   "execution_count": 7,
   "metadata": {},
   "outputs": [
    {
     "name": "stdout",
     "output_type": "stream",
     "text": [
      "12\n"
     ]
    }
   ],
   "source": [
    "class priya:\n",
    "    p = 12\n",
    "p1 = priya()\n",
    "print(p1.p)\n"
   ]
  },
  {
   "cell_type": "code",
   "execution_count": 12,
   "metadata": {},
   "outputs": [
    {
     "name": "stdout",
     "output_type": "stream",
     "text": [
      "student\n",
      "None\n"
     ]
    }
   ],
   "source": [
    "class priya:\n",
    "    def student():\n",
    "        print(\"student\")\n",
    "p1 = priya.student() \n",
    "print(p1)"
   ]
  },
  {
   "cell_type": "code",
   "execution_count": null,
   "metadata": {},
   "outputs": [
    {
     "name": "stdout",
     "output_type": "stream",
     "text": [
      "12\n"
     ]
    }
   ],
   "source": [
    "class priya:\n",
    "    def __init__(self):\n",
    "        self.p=12  #instance variable\n",
    "p1= priya()\n",
    "print(p1.p)"
   ]
  },
  {
   "cell_type": "code",
   "execution_count": 19,
   "metadata": {},
   "outputs": [
    {
     "name": "stdout",
     "output_type": "stream",
     "text": [
      "<class 'int'>\n"
     ]
    }
   ],
   "source": [
    "a = 10 \n",
    "print(type(a))"
   ]
  },
  {
   "cell_type": "code",
   "execution_count": null,
   "metadata": {},
   "outputs": [
    {
     "name": "stdout",
     "output_type": "stream",
     "text": [
      "Address: kukas\n",
      "Director Name: Arvind\n"
     ]
    }
   ],
   "source": [
    "#ques1 . create a class with aryaold and declare some variable\n",
    "# with address and director name and print them using a object\n",
    "# Class with Variables for Aryaold\n",
    "class Aryaold:\n",
    "    def __init__(self, address, director_name):\n",
    "        self.address = address\n",
    "        self.director_name = director_name\n",
    "\n",
    "    def display_info(self):\n",
    "        print(\"Address:\", self.address)\n",
    "        print(\"Director Name:\", self.director_name)\n",
    "\n",
    "aryaold_obj = Aryaold(\"kukas\", \"Arvind\")\n",
    "aryaold_obj.display_info()\n"
   ]
  },
  {
   "cell_type": "code",
   "execution_count": 25,
   "metadata": {},
   "outputs": [
    {
     "name": "stdout",
     "output_type": "stream",
     "text": [
      "name: priya sahu\n",
      "age: 20\n"
     ]
    }
   ],
   "source": [
    "class priya:\n",
    "    def __init__(self , name , age ):\n",
    "        self.name = name\n",
    "        self.age = age\n",
    "\n",
    "    def display_info(self):\n",
    "        print(\"name:\", self.name)\n",
    "        print(\"age:\", self.age)\n",
    "\n",
    "aryaold_obj = priya(\"priya sahu\", \"20\")\n",
    "aryaold_obj.display_info()"
   ]
  },
  {
   "cell_type": "code",
   "execution_count": null,
   "metadata": {},
   "outputs": [
    {
     "name": "stdout",
     "output_type": "stream",
     "text": [
      "hello\n",
      "arya main\n"
     ]
    }
   ],
   "source": [
    "#inheritance\n",
    "class arya :\n",
    "    name = \"arya main\"\n",
    "class aryaold(arya):\n",
    "    print(\"hello\")\n",
    "\n",
    "a = aryaold()\n",
    "\n",
    "print(a.name)"
   ]
  },
  {
   "cell_type": "code",
   "execution_count": 33,
   "metadata": {},
   "outputs": [
    {
     "name": "stdout",
     "output_type": "stream",
     "text": [
      "This is arya1 class\n",
      "This is arya2 class\n",
      "This is branch class inheriting from arya1 and arya2\n"
     ]
    }
   ],
   "source": [
    "# multiple inheritaclass BankDetails:\n",
    "class arya1:\n",
    "    def func1(self):\n",
    "        print(\"This is arya1 class\")\n",
    "\n",
    "class arya2:\n",
    "    def func2(self):\n",
    "        print(\"This is arya2 class\")\n",
    "\n",
    "class branch(arya1, arya2):\n",
    "    def func3(self):\n",
    "        print(\"This is branch class inheriting from arya1 and arya2\")\n",
    "\n",
    "# Creating an object of Child class\n",
    "branch_obj = branch()\n",
    "branch_obj.func1()\n",
    "branch_obj.func2()\n",
    "branch_obj.func3()\n"
   ]
  },
  {
   "cell_type": "code",
   "execution_count": 34,
   "metadata": {},
   "outputs": [
    {
     "name": "stdout",
     "output_type": "stream",
     "text": [
      "This is Grandparent class\n",
      "This is Parent class\n",
      "This is Child class inheriting from Parent and Grandparent\n"
     ]
    }
   ],
   "source": [
    "# multilevel inheritance\n",
    "class Grandparent:\n",
    "    def grandparent_func(self):\n",
    "        print(\"This is Grandparent class\")\n",
    "\n",
    "class Parent(Grandparent):\n",
    "    def parent_func(self):\n",
    "        print(\"This is Parent class\")\n",
    "\n",
    "class Child(Parent):\n",
    "    def child_func(self):\n",
    "        print(\"This is Child class inheriting from Parent and Grandparent\")\n",
    "\n",
    "# Creating an object of Child class\n",
    "child_obj = Child()\n",
    "child_obj.grandparent_func()\n",
    "child_obj.parent_func()\n",
    "child_obj.child_func()"
   ]
  },
  {
   "cell_type": "code",
   "execution_count": 35,
   "metadata": {},
   "outputs": [
    {
     "name": "stdout",
     "output_type": "stream",
     "text": [
      "son\n"
     ]
    },
    {
     "data": {
      "text/plain": [
       "'arya'"
      ]
     },
     "execution_count": 35,
     "metadata": {},
     "output_type": "execute_result"
    }
   ],
   "source": [
    "class grandfather:\n",
    "    grandfathername = \"arya\"\n",
    "class father(grandfather):\n",
    "    fathername=\"aryaold\"\n",
    "class son(father):\n",
    "    print(\"son\")\n",
    "obj= son()\n",
    "obj.grandfathername"
   ]
  },
  {
   "cell_type": "code",
   "execution_count": 37,
   "metadata": {},
   "outputs": [],
   "source": [
    "#hybrid\n",
    "class person:\n",
    "    pass\n",
    "class male(person):\n",
    "    pass\n",
    "class female(person):\n",
    "    pass\n",
    "class child(male, female):\n",
    "    pass"
   ]
  },
  {
   "cell_type": "code",
   "execution_count": 39,
   "metadata": {},
   "outputs": [
    {
     "name": "stdout",
     "output_type": "stream",
     "text": [
      "Animal makes a sound\n",
      "Dog barks\n",
      "Animal makes a sound\n",
      "Cat meows\n"
     ]
    }
   ],
   "source": [
    "#Hirechical Inheritance\n",
    "# Parent class\n",
    "class Animal:\n",
    "    def speak(self):\n",
    "        print(\"Animal makes a sound\")\n",
    "\n",
    "# Child class 1\n",
    "class Dog(Animal):\n",
    "    def bark(self):\n",
    "        print(\"Dog barks\")\n",
    "\n",
    "# Child class 2\n",
    "class Cat(Animal):\n",
    "    def meow(self):\n",
    "        print(\"Cat meows\")\n",
    "\n",
    "# Objects of child classes\n",
    "d = Dog()\n",
    "c = Cat()\n",
    "\n",
    "d.speak()\n",
    "d.bark()\n",
    "\n",
    "c.speak()\n",
    "c.meow()"
   ]
  },
  {
   "cell_type": "code",
   "execution_count": 40,
   "metadata": {},
   "outputs": [
    {
     "name": "stdout",
     "output_type": "stream",
     "text": [
      "arya main campus\n"
     ]
    }
   ],
   "source": [
    "#polymorphism\n",
    "name= \"arya main campus\"\n",
    "print(name)"
   ]
  },
  {
   "cell_type": "code",
   "execution_count": 15,
   "metadata": {},
   "outputs": [
    {
     "name": "stdout",
     "output_type": "stream",
     "text": [
      "Arya main campus\n"
     ]
    },
    {
     "data": {
      "text/plain": [
       "306"
      ]
     },
     "execution_count": 15,
     "metadata": {},
     "output_type": "execute_result"
    }
   ],
   "source": [
    "class AryaMain:\n",
    "    def __init__(self):\n",
    "        self.__accountno = 1234\n",
    "        self. _name = \"Arya \" \n",
    "        self.labno = 306 \n",
    "class student(AryaMain):\n",
    "    print(\"Arya main campus\")\n",
    "S1=student()\n",
    "S1.labno\n",
    "#S1.__accountno\n",
    "#S1._name"
   ]
  }
 ],
 "metadata": {
  "kernelspec": {
   "display_name": "Python 3",
   "language": "python",
   "name": "python3"
  },
  "language_info": {
   "codemirror_mode": {
    "name": "ipython",
    "version": 3
   },
   "file_extension": ".py",
   "mimetype": "text/x-python",
   "name": "python",
   "nbconvert_exporter": "python",
   "pygments_lexer": "ipython3",
   "version": "3.12.9"
  }
 },
 "nbformat": 4,
 "nbformat_minor": 2
}
